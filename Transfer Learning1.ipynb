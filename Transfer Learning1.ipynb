{
 "cells": [
  {
   "cell_type": "code",
   "execution_count": 2,
   "metadata": {},
   "outputs": [
    {
     "name": "stderr",
     "output_type": "stream",
     "text": [
      "S:\\ana\\lib\\site-packages\\tensorflow\\python\\framework\\dtypes.py:526: FutureWarning: Passing (type, 1) or '1type' as a synonym of type is deprecated; in a future version of numpy, it will be understood as (type, (1,)) / '(1,)type'.\n",
      "  _np_qint8 = np.dtype([(\"qint8\", np.int8, 1)])\n",
      "S:\\ana\\lib\\site-packages\\tensorflow\\python\\framework\\dtypes.py:527: FutureWarning: Passing (type, 1) or '1type' as a synonym of type is deprecated; in a future version of numpy, it will be understood as (type, (1,)) / '(1,)type'.\n",
      "  _np_quint8 = np.dtype([(\"quint8\", np.uint8, 1)])\n",
      "S:\\ana\\lib\\site-packages\\tensorflow\\python\\framework\\dtypes.py:528: FutureWarning: Passing (type, 1) or '1type' as a synonym of type is deprecated; in a future version of numpy, it will be understood as (type, (1,)) / '(1,)type'.\n",
      "  _np_qint16 = np.dtype([(\"qint16\", np.int16, 1)])\n",
      "S:\\ana\\lib\\site-packages\\tensorflow\\python\\framework\\dtypes.py:529: FutureWarning: Passing (type, 1) or '1type' as a synonym of type is deprecated; in a future version of numpy, it will be understood as (type, (1,)) / '(1,)type'.\n",
      "  _np_quint16 = np.dtype([(\"quint16\", np.uint16, 1)])\n",
      "S:\\ana\\lib\\site-packages\\tensorflow\\python\\framework\\dtypes.py:530: FutureWarning: Passing (type, 1) or '1type' as a synonym of type is deprecated; in a future version of numpy, it will be understood as (type, (1,)) / '(1,)type'.\n",
      "  _np_qint32 = np.dtype([(\"qint32\", np.int32, 1)])\n",
      "S:\\ana\\lib\\site-packages\\tensorflow\\python\\framework\\dtypes.py:535: FutureWarning: Passing (type, 1) or '1type' as a synonym of type is deprecated; in a future version of numpy, it will be understood as (type, (1,)) / '(1,)type'.\n",
      "  np_resource = np.dtype([(\"resource\", np.ubyte, 1)])\n",
      "S:\\ana\\lib\\site-packages\\h5py\\__init__.py:36: FutureWarning: Conversion of the second argument of issubdtype from `float` to `np.floating` is deprecated. In future, it will be treated as `np.float64 == np.dtype(float).type`.\n",
      "  from ._conv import register_converters as _register_converters\n"
     ]
    }
   ],
   "source": [
    "import pandas as pd\n",
    "import tensorflow as tf\n",
    "import os\n",
    "import numpy as np\n",
    "import numpy as np\n",
    "#from keras.preprocessing.image import ImageDataGenerator\n",
    "from tensorflow.keras.models import Sequential\n",
    "from tensorflow.keras.layers import Dropout, Flatten, Dense,Conv2D,MaxPool2D,Activation,Input\n",
    "from tensorflow.keras.models import Model\n",
    "from tensorflow.keras import applications\n",
    "from sklearn.model_selection import train_test_split\n",
    "##Time taken to load the images\n",
    "import time\n",
    "import datetime\n",
    "tf.keras.backend.clear_session()"
   ]
  },
  {
   "cell_type": "markdown",
   "metadata": {},
   "source": [
    "### Model 1"
   ]
  },
  {
   "cell_type": "code",
   "execution_count": 13,
   "metadata": {},
   "outputs": [],
   "source": [
    "tf.keras.backend.clear_session()\n",
    "model = applications.VGG16(input_shape=(64,64,3),include_top=False, weights='imagenet')"
   ]
  },
  {
   "cell_type": "code",
   "execution_count": 14,
   "metadata": {},
   "outputs": [],
   "source": [
    "Conv1 = Conv2D(filters=32,kernel_size=(3,3),strides=(1,1),padding='same',data_format='channels_last',\n",
    "              activation='relu',kernel_initializer=tf.keras.initializers.he_normal(seed=0),name='Conv1')(model.output)\n",
    "Pool1 = MaxPool2D(pool_size=(2,2),strides=(2,2),padding='valid',data_format='channels_last',name='Pool1')(Conv1)\n",
    "\n",
    "flatten = Flatten(data_format='channels_last',name='Flatten')(Pool1)\n",
    "FC1 = Dense(units=20,activation='relu',kernel_initializer=tf.keras.initializers.glorot_normal(seed=32),name='FC1')(flatten)\n",
    "FC2 = Dense(units=20,activation='relu',kernel_initializer=tf.keras.initializers.glorot_normal(seed=33),name='FC2')(FC1)\n",
    "Out = Dense(units=16,activation='softmax',kernel_initializer=tf.keras.initializers.glorot_normal(seed=3),name='Output')(FC2)\n",
    "model = Model(inputs=model.input,outputs=Out)"
   ]
  },
  {
   "cell_type": "code",
   "execution_count": 15,
   "metadata": {},
   "outputs": [],
   "source": [
    "for layer in model.layers[:19]:\n",
    "    layer.trainable=False"
   ]
  },
  {
   "cell_type": "code",
   "execution_count": 16,
   "metadata": {},
   "outputs": [
    {
     "name": "stdout",
     "output_type": "stream",
     "text": [
      "_________________________________________________________________\n",
      "Layer (type)                 Output Shape              Param #   \n",
      "=================================================================\n",
      "input_1 (InputLayer)         (None, 64, 64, 3)         0         \n",
      "_________________________________________________________________\n",
      "block1_conv1 (Conv2D)        (None, 64, 64, 64)        1792      \n",
      "_________________________________________________________________\n",
      "block1_conv2 (Conv2D)        (None, 64, 64, 64)        36928     \n",
      "_________________________________________________________________\n",
      "block1_pool (MaxPooling2D)   (None, 32, 32, 64)        0         \n",
      "_________________________________________________________________\n",
      "block2_conv1 (Conv2D)        (None, 32, 32, 128)       73856     \n",
      "_________________________________________________________________\n",
      "block2_conv2 (Conv2D)        (None, 32, 32, 128)       147584    \n",
      "_________________________________________________________________\n",
      "block2_pool (MaxPooling2D)   (None, 16, 16, 128)       0         \n",
      "_________________________________________________________________\n",
      "block3_conv1 (Conv2D)        (None, 16, 16, 256)       295168    \n",
      "_________________________________________________________________\n",
      "block3_conv2 (Conv2D)        (None, 16, 16, 256)       590080    \n",
      "_________________________________________________________________\n",
      "block3_conv3 (Conv2D)        (None, 16, 16, 256)       590080    \n",
      "_________________________________________________________________\n",
      "block3_pool (MaxPooling2D)   (None, 8, 8, 256)         0         \n",
      "_________________________________________________________________\n",
      "block4_conv1 (Conv2D)        (None, 8, 8, 512)         1180160   \n",
      "_________________________________________________________________\n",
      "block4_conv2 (Conv2D)        (None, 8, 8, 512)         2359808   \n",
      "_________________________________________________________________\n",
      "block4_conv3 (Conv2D)        (None, 8, 8, 512)         2359808   \n",
      "_________________________________________________________________\n",
      "block4_pool (MaxPooling2D)   (None, 4, 4, 512)         0         \n",
      "_________________________________________________________________\n",
      "block5_conv1 (Conv2D)        (None, 4, 4, 512)         2359808   \n",
      "_________________________________________________________________\n",
      "block5_conv2 (Conv2D)        (None, 4, 4, 512)         2359808   \n",
      "_________________________________________________________________\n",
      "block5_conv3 (Conv2D)        (None, 4, 4, 512)         2359808   \n",
      "_________________________________________________________________\n",
      "block5_pool (MaxPooling2D)   (None, 2, 2, 512)         0         \n",
      "_________________________________________________________________\n",
      "Conv1 (Conv2D)               (None, 2, 2, 32)          147488    \n",
      "_________________________________________________________________\n",
      "Pool1 (MaxPooling2D)         (None, 1, 1, 32)          0         \n",
      "_________________________________________________________________\n",
      "Flatten (Flatten)            (None, 32)                0         \n",
      "_________________________________________________________________\n",
      "FC1 (Dense)                  (None, 20)                660       \n",
      "_________________________________________________________________\n",
      "FC2 (Dense)                  (None, 20)                420       \n",
      "_________________________________________________________________\n",
      "Output (Dense)               (None, 16)                336       \n",
      "=================================================================\n",
      "Total params: 14,863,592\n",
      "Trainable params: 148,904\n",
      "Non-trainable params: 14,714,688\n",
      "_________________________________________________________________\n"
     ]
    }
   ],
   "source": [
    "model.summary()"
   ]
  },
  {
   "cell_type": "code",
   "execution_count": 17,
   "metadata": {},
   "outputs": [],
   "source": [
    "tf.keras.utils.plot_model(\n",
    "    model,\n",
    "    to_file='model1_architecture.png',\n",
    "    show_shapes=True)"
   ]
  },
  {
   "cell_type": "code",
   "execution_count": 6,
   "metadata": {},
   "outputs": [],
   "source": [
    "df=pd.read_csv(\"labels_final.csv\",dtype=str)\n",
    "ImageFlow = tf.keras.preprocessing.image.ImageDataGenerator(rescale=1./255.,validation_split=0.25)"
   ]
  },
  {
   "cell_type": "code",
   "execution_count": 8,
   "metadata": {},
   "outputs": [],
   "source": [
    "df = df.sample(frac=1).reset_index(drop=True)"
   ]
  },
  {
   "cell_type": "code",
   "execution_count": 10,
   "metadata": {},
   "outputs": [
    {
     "name": "stdout",
     "output_type": "stream",
     "text": [
      "Found 36000 validated image filenames belonging to 16 classes.\n",
      "Found 12000 validated image filenames belonging to 16 classes.\n"
     ]
    }
   ],
   "source": [
    "train_generator=ImageFlow.flow_from_dataframe(\n",
    "dataframe=df,\n",
    "directory=\"./data_final/\",\n",
    "x_col=\"path\",\n",
    "y_col=\"label\",\n",
    "batch_size=32,\n",
    "seed=42,\n",
    "subset=\"training\",\n",
    "shuffle=False,\n",
    "class_mode=\"categorical\",\n",
    "target_size=(64,64))\n",
    "\n",
    "validation_generator=ImageFlow.flow_from_dataframe(\n",
    "dataframe=df,\n",
    "directory=\"./data_final/\",\n",
    "x_col=\"path\",\n",
    "y_col=\"label\",\n",
    "batch_size=32,\n",
    "subset=\"validation\",\n",
    "seed=42,\n",
    "shuffle=False,\n",
    "class_mode=\"categorical\",\n",
    "target_size=(64,64))"
   ]
  },
  {
   "cell_type": "code",
   "execution_count": 11,
   "metadata": {},
   "outputs": [],
   "source": [
    "STEP_SIZE_TRAIN=36000//32\n",
    "STEP_SIZE_VALID=12000//32"
   ]
  },
  {
   "cell_type": "code",
   "execution_count": 12,
   "metadata": {},
   "outputs": [],
   "source": [
    "log_dir=\"logs/fit/\" + datetime.datetime.now().strftime(\"%Y%m%d-%H%M%S\")\n",
    "tensorboard_callback = tf.keras.callbacks.TensorBoard(log_dir=log_dir, histogram_freq=1, write_graph=True,write_grads=True)\n",
    "model.compile(optimizer='rmsprop',loss='categorical_crossentropy', metrics=['accuracy'])"
   ]
  },
  {
   "cell_type": "code",
   "execution_count": 13,
   "metadata": {
    "scrolled": false
   },
   "outputs": [
    {
     "name": "stdout",
     "output_type": "stream",
     "text": [
      "WARNING:tensorflow:From S:\\ana\\lib\\site-packages\\tensorflow\\python\\ops\\math_ops.py:3066: to_int32 (from tensorflow.python.ops.math_ops) is deprecated and will be removed in a future version.\n",
      "Instructions for updating:\n",
      "Use tf.cast instead.\n",
      "Epoch 1/19\n",
      "375/375 [==============================] - 870s 2s/step - loss: 1.8806 - acc: 0.4114\n",
      "1125/1125 [==============================] - 2839s 3s/step - loss: 2.0778 - acc: 0.3517 - val_loss: 1.8806 - val_acc: 0.4114\n",
      "Epoch 2/19\n",
      "375/375 [==============================] - 368s 983ms/step - loss: 1.7431 - acc: 0.4635\n",
      "1125/1125 [==============================] - 1275s 1s/step - loss: 1.8036 - acc: 0.4391 - val_loss: 1.7431 - val_acc: 0.4635\n",
      "Epoch 3/19\n",
      "375/375 [==============================] - 366s 977ms/step - loss: 1.7024 - acc: 0.4750\n",
      "1125/1125 [==============================] - 1152s 1s/step - loss: 1.7139 - acc: 0.4670 - val_loss: 1.7024 - val_acc: 0.4750\n",
      "Epoch 4/19\n",
      "375/375 [==============================] - 367s 980ms/step - loss: 1.6904 - acc: 0.4815\n",
      "1125/1125 [==============================] - 1153s 1s/step - loss: 1.6489 - acc: 0.4890 - val_loss: 1.6904 - val_acc: 0.4815\n",
      "Epoch 5/19\n",
      "375/375 [==============================] - 366s 977ms/step - loss: 1.6760 - acc: 0.4891\n",
      "1125/1125 [==============================] - 1152s 1s/step - loss: 1.6015 - acc: 0.5027 - val_loss: 1.6760 - val_acc: 0.4891\n",
      "Epoch 6/19\n",
      "375/375 [==============================] - 365s 974ms/step - loss: 1.6310 - acc: 0.4999\n",
      "1125/1125 [==============================] - 1152s 1s/step - loss: 1.5644 - acc: 0.5125 - val_loss: 1.6310 - val_acc: 0.4999\n",
      "Epoch 7/19\n",
      "375/375 [==============================] - 366s 977ms/step - loss: 1.6025 - acc: 0.5102\n",
      "1125/1125 [==============================] - 1158s 1s/step - loss: 1.5345 - acc: 0.5234 - val_loss: 1.6025 - val_acc: 0.5102\n",
      "Epoch 8/19\n",
      "375/375 [==============================] - 366s 975ms/step - loss: 1.5786 - acc: 0.5165\n",
      "1125/1125 [==============================] - 1151s 1s/step - loss: 1.5087 - acc: 0.5315 - val_loss: 1.5786 - val_acc: 0.5165\n",
      "Epoch 9/19\n",
      "375/375 [==============================] - 364s 971ms/step - loss: 1.6275 - acc: 0.4990\n",
      "1125/1125 [==============================] - 1150s 1s/step - loss: 1.4872 - acc: 0.5391 - val_loss: 1.6275 - val_acc: 0.4990\n",
      "Epoch 10/19\n",
      "375/375 [==============================] - 368s 982ms/step - loss: 1.5843 - acc: 0.5230\n",
      "1125/1125 [==============================] - 1156s 1s/step - loss: 1.4701 - acc: 0.5427 - val_loss: 1.5843 - val_acc: 0.5230\n",
      "Epoch 11/19\n",
      "375/375 [==============================] - 366s 977ms/step - loss: 1.6167 - acc: 0.5135\n",
      "1125/1125 [==============================] - 1154s 1s/step - loss: 1.4501 - acc: 0.5506 - val_loss: 1.6167 - val_acc: 0.5135\n",
      "Epoch 12/19\n",
      "375/375 [==============================] - 366s 977ms/step - loss: 1.6685 - acc: 0.4986\n",
      "1125/1125 [==============================] - 1152s 1s/step - loss: 1.4366 - acc: 0.5547 - val_loss: 1.6685 - val_acc: 0.4986\n",
      "Epoch 13/19\n",
      "375/375 [==============================] - 365s 974ms/step - loss: 1.5968 - acc: 0.5215\n",
      "1125/1125 [==============================] - 1154s 1s/step - loss: 1.4195 - acc: 0.5617 - val_loss: 1.5968 - val_acc: 0.5215\n",
      "Epoch 14/19\n",
      "375/375 [==============================] - 366s 976ms/step - loss: 1.6128 - acc: 0.5176\n",
      "1125/1125 [==============================] - 1154s 1s/step - loss: 1.4041 - acc: 0.5636 - val_loss: 1.6128 - val_acc: 0.5176\n",
      "Epoch 15/19\n",
      "375/375 [==============================] - 368s 981ms/step - loss: 1.6454 - acc: 0.5138\n",
      "1125/1125 [==============================] - 1156s 1s/step - loss: 1.3926 - acc: 0.5666 - val_loss: 1.6454 - val_acc: 0.5138\n",
      "Epoch 16/19\n",
      "375/375 [==============================] - 370s 986ms/step - loss: 1.6053 - acc: 0.5171\n",
      "1125/1125 [==============================] - 1156s 1s/step - loss: 1.3827 - acc: 0.5724 - val_loss: 1.6053 - val_acc: 0.5171\n",
      "Epoch 17/19\n",
      "375/375 [==============================] - 378s 1s/step - loss: 1.5664 - acc: 0.5310\n",
      "1125/1125 [==============================] - 1176s 1s/step - loss: 1.3735 - acc: 0.5745 - val_loss: 1.5664 - val_acc: 0.5310\n",
      "Epoch 18/19\n",
      "375/375 [==============================] - 369s 984ms/step - loss: 1.6008 - acc: 0.5257\n",
      "1125/1125 [==============================] - 1175s 1s/step - loss: 1.3646 - acc: 0.5767 - val_loss: 1.6008 - val_acc: 0.5257\n",
      "Epoch 19/19\n",
      "375/375 [==============================] - 371s 989ms/step - loss: 1.6917 - acc: 0.5015\n",
      "1125/1125 [==============================] - 1159s 1s/step - loss: 1.3555 - acc: 0.5783 - val_loss: 1.6917 - val_acc: 0.5015\n"
     ]
    },
    {
     "data": {
      "text/plain": [
       "<tensorflow.python.keras.callbacks.History at 0x1c461125ef0>"
      ]
     },
     "execution_count": 13,
     "metadata": {},
     "output_type": "execute_result"
    }
   ],
   "source": [
    "model.fit_generator(generator=train_generator,\n",
    "                    steps_per_epoch=STEP_SIZE_TRAIN,\n",
    "                    validation_data=validation_generator,\n",
    "                    validation_steps=STEP_SIZE_VALID,\n",
    "                    epochs=19,callbacks=[tensorboard_callback]\n",
    ")"
   ]
  },
  {
   "cell_type": "code",
   "execution_count": 14,
   "metadata": {},
   "outputs": [],
   "source": [
    "model.save_weights('model1_weights.h5')"
   ]
  },
  {
   "cell_type": "markdown",
   "metadata": {},
   "source": [
    "## Observations:"
   ]
  },
  {
   "cell_type": "markdown",
   "metadata": {},
   "source": [
    "![title](model1_hist.png)"
   ]
  },
  {
   "cell_type": "markdown",
   "metadata": {},
   "source": [
    "1. training and validation accuracy reaches about 0.5\n",
    "2. As there are less parammeters to train, there is no overfitting\n",
    "3. bias vary from -0.4 to 0.3 and weights vary from -4 to 1\n",
    "4. Model accuracy plkeatues at 10th epoch"
   ]
  },
  {
   "cell_type": "markdown",
   "metadata": {},
   "source": [
    "### Model 2"
   ]
  },
  {
   "cell_type": "code",
   "execution_count": 10,
   "metadata": {},
   "outputs": [],
   "source": [
    "tf.keras.backend.clear_session()\n",
    "model = applications.VGG16(input_shape=(64,64,3),include_top=False, weights='imagenet')"
   ]
  },
  {
   "cell_type": "code",
   "execution_count": 11,
   "metadata": {},
   "outputs": [],
   "source": [
    "Conv1 = Conv2D(filters=32,kernel_size=(2,2),strides=(1,1),padding=\"valid\",data_format='channels_last',\n",
    "              activation='relu',kernel_initializer=tf.keras.initializers.he_normal(seed=0),name='Conv1')(model.output)\n",
    "\n",
    "Conv2 = Conv2D(filters=20,kernel_size=(1,1),strides=(1,1),padding='valid',data_format='channels_last',\n",
    "              activation='relu',kernel_initializer=tf.keras.initializers.he_normal(seed=0),name='Conv2')(Conv1)\n",
    "\n",
    "Conv3 = Conv2D(filters=16,kernel_size=(1,1),strides=(1,1),padding='valid',data_format='channels_last',\n",
    "              activation='softmax',kernel_initializer=tf.keras.initializers.he_normal(seed=0),name='Output')(Conv2)\n",
    "\n",
    "flatten = Flatten(data_format='channels_last',name='Flatten')(Conv3)\n",
    "\n",
    "finalmodel = Model(inputs=model.input,outputs=flatten)\n",
    "\n",
    "#finalmodel = Model(inputs=model.input,outputs=Out)"
   ]
  },
  {
   "cell_type": "code",
   "execution_count": 12,
   "metadata": {},
   "outputs": [],
   "source": [
    "for layer in finalmodel.layers[:19]:\n",
    "    layer.trainable=False"
   ]
  },
  {
   "cell_type": "code",
   "execution_count": 13,
   "metadata": {},
   "outputs": [
    {
     "name": "stdout",
     "output_type": "stream",
     "text": [
      "_________________________________________________________________\n",
      "Layer (type)                 Output Shape              Param #   \n",
      "=================================================================\n",
      "input_1 (InputLayer)         (None, 64, 64, 3)         0         \n",
      "_________________________________________________________________\n",
      "block1_conv1 (Conv2D)        (None, 64, 64, 64)        1792      \n",
      "_________________________________________________________________\n",
      "block1_conv2 (Conv2D)        (None, 64, 64, 64)        36928     \n",
      "_________________________________________________________________\n",
      "block1_pool (MaxPooling2D)   (None, 32, 32, 64)        0         \n",
      "_________________________________________________________________\n",
      "block2_conv1 (Conv2D)        (None, 32, 32, 128)       73856     \n",
      "_________________________________________________________________\n",
      "block2_conv2 (Conv2D)        (None, 32, 32, 128)       147584    \n",
      "_________________________________________________________________\n",
      "block2_pool (MaxPooling2D)   (None, 16, 16, 128)       0         \n",
      "_________________________________________________________________\n",
      "block3_conv1 (Conv2D)        (None, 16, 16, 256)       295168    \n",
      "_________________________________________________________________\n",
      "block3_conv2 (Conv2D)        (None, 16, 16, 256)       590080    \n",
      "_________________________________________________________________\n",
      "block3_conv3 (Conv2D)        (None, 16, 16, 256)       590080    \n",
      "_________________________________________________________________\n",
      "block3_pool (MaxPooling2D)   (None, 8, 8, 256)         0         \n",
      "_________________________________________________________________\n",
      "block4_conv1 (Conv2D)        (None, 8, 8, 512)         1180160   \n",
      "_________________________________________________________________\n",
      "block4_conv2 (Conv2D)        (None, 8, 8, 512)         2359808   \n",
      "_________________________________________________________________\n",
      "block4_conv3 (Conv2D)        (None, 8, 8, 512)         2359808   \n",
      "_________________________________________________________________\n",
      "block4_pool (MaxPooling2D)   (None, 4, 4, 512)         0         \n",
      "_________________________________________________________________\n",
      "block5_conv1 (Conv2D)        (None, 4, 4, 512)         2359808   \n",
      "_________________________________________________________________\n",
      "block5_conv2 (Conv2D)        (None, 4, 4, 512)         2359808   \n",
      "_________________________________________________________________\n",
      "block5_conv3 (Conv2D)        (None, 4, 4, 512)         2359808   \n",
      "_________________________________________________________________\n",
      "block5_pool (MaxPooling2D)   (None, 2, 2, 512)         0         \n",
      "_________________________________________________________________\n",
      "Conv1 (Conv2D)               (None, 1, 1, 32)          65568     \n",
      "_________________________________________________________________\n",
      "Conv2 (Conv2D)               (None, 1, 1, 20)          660       \n",
      "_________________________________________________________________\n",
      "Output (Conv2D)              (None, 1, 1, 16)          336       \n",
      "_________________________________________________________________\n",
      "Flatten (Flatten)            (None, 16)                0         \n",
      "=================================================================\n",
      "Total params: 14,781,252\n",
      "Trainable params: 66,564\n",
      "Non-trainable params: 14,714,688\n",
      "_________________________________________________________________\n"
     ]
    }
   ],
   "source": [
    "finalmodel.summary()"
   ]
  },
  {
   "cell_type": "code",
   "execution_count": 19,
   "metadata": {},
   "outputs": [],
   "source": [
    "tf.keras.utils.plot_model(\n",
    "    model,\n",
    "    to_file='model2_architecture.png',\n",
    "    show_shapes=True)"
   ]
  },
  {
   "cell_type": "code",
   "execution_count": 7,
   "metadata": {},
   "outputs": [],
   "source": [
    "df=pd.read_csv(\"labels_final.csv\",dtype=str)\n",
    "ImageFlow = tf.keras.preprocessing.image.ImageDataGenerator(rescale=1./255.,validation_split=0.25)"
   ]
  },
  {
   "cell_type": "code",
   "execution_count": 8,
   "metadata": {},
   "outputs": [],
   "source": [
    "df = df.sample(frac=1).reset_index(drop=True)"
   ]
  },
  {
   "cell_type": "code",
   "execution_count": 9,
   "metadata": {},
   "outputs": [
    {
     "name": "stdout",
     "output_type": "stream",
     "text": [
      "Found 36000 validated image filenames belonging to 16 classes.\n",
      "Found 12000 validated image filenames belonging to 16 classes.\n"
     ]
    }
   ],
   "source": [
    "train_generator=ImageFlow.flow_from_dataframe(\n",
    "dataframe=df,\n",
    "directory=\"./data_final/\",\n",
    "x_col=\"path\",\n",
    "y_col=\"label\",\n",
    "batch_size=32,\n",
    "seed=42,\n",
    "subset=\"training\",\n",
    "shuffle=False,\n",
    "class_mode=\"categorical\",\n",
    "target_size=(64,64))\n",
    "\n",
    "validation_generator=ImageFlow.flow_from_dataframe(\n",
    "dataframe=df,\n",
    "directory=\"./data_final/\",\n",
    "x_col=\"path\",\n",
    "y_col=\"label\",\n",
    "batch_size=32,\n",
    "subset=\"validation\",\n",
    "seed=42,\n",
    "shuffle=False,\n",
    "class_mode=\"categorical\",\n",
    "target_size=(64,64))"
   ]
  },
  {
   "cell_type": "code",
   "execution_count": 17,
   "metadata": {},
   "outputs": [],
   "source": [
    "STEP_SIZE_TRAIN=36000//32\n",
    "STEP_SIZE_VALID=12000//32"
   ]
  },
  {
   "cell_type": "code",
   "execution_count": 18,
   "metadata": {},
   "outputs": [],
   "source": [
    "log_dir=\"logs/fit/\" + datetime.datetime.now().strftime(\"%Y%m%d-%H%M%S\")\n",
    "tensorboard_callback = tf.keras.callbacks.TensorBoard(log_dir=log_dir, histogram_freq=1, write_graph=True,write_grads=True)\n",
    "finalmodel.compile(optimizer='rmsprop',loss='categorical_crossentropy', metrics=['accuracy'])"
   ]
  },
  {
   "cell_type": "code",
   "execution_count": 19,
   "metadata": {},
   "outputs": [
    {
     "name": "stdout",
     "output_type": "stream",
     "text": [
      "WARNING:tensorflow:From S:\\ana\\lib\\site-packages\\tensorflow\\python\\ops\\math_ops.py:3066: to_int32 (from tensorflow.python.ops.math_ops) is deprecated and will be removed in a future version.\n",
      "Instructions for updating:\n",
      "Use tf.cast instead.\n",
      "WARNING:tensorflow:From S:\\ana\\lib\\site-packages\\tensorflow\\python\\ops\\math_grad.py:102: div (from tensorflow.python.ops.math_ops) is deprecated and will be removed in a future version.\n",
      "Instructions for updating:\n",
      "Deprecated in favor of operator or tf.math.divide.\n",
      "Epoch 1/20\n",
      "375/375 [==============================] - 520s 1s/step - loss: 1.9036 - acc: 0.4110\n",
      "1125/1125 [==============================] - 2064s 2s/step - loss: 2.1241 - acc: 0.3344 - val_loss: 1.9036 - val_acc: 0.4110\n",
      "Epoch 2/20\n",
      "375/375 [==============================] - 373s 995ms/step - loss: 1.7535 - acc: 0.4472\n",
      "1125/1125 [==============================] - 1160s 1s/step - loss: 1.8136 - acc: 0.4317 - val_loss: 1.7535 - val_acc: 0.4472\n",
      "Epoch 3/20\n",
      "375/375 [==============================] - 368s 982ms/step - loss: 1.7531 - acc: 0.4573\n",
      "1125/1125 [==============================] - 1150s 1s/step - loss: 1.7146 - acc: 0.4632 - val_loss: 1.7531 - val_acc: 0.4573\n",
      "Epoch 4/20\n",
      "375/375 [==============================] - 369s 984ms/step - loss: 1.6891 - acc: 0.4778\n",
      "1125/1125 [==============================] - 1153s 1s/step - loss: 1.6613 - acc: 0.4819 - val_loss: 1.6891 - val_acc: 0.4778\n",
      "Epoch 5/20\n",
      "375/375 [==============================] - 372s 992ms/step - loss: 1.6264 - acc: 0.4921\n",
      "1125/1125 [==============================] - 1156s 1s/step - loss: 1.6154 - acc: 0.4963 - val_loss: 1.6264 - val_acc: 0.4921\n",
      "Epoch 6/20\n",
      "375/375 [==============================] - 367s 978ms/step - loss: 1.5976 - acc: 0.5057\n",
      "1125/1125 [==============================] - 1149s 1s/step - loss: 1.5840 - acc: 0.5045 - val_loss: 1.5976 - val_acc: 0.5057\n",
      "Epoch 7/20\n",
      "375/375 [==============================] - 366s 975ms/step - loss: 1.6137 - acc: 0.5011\n",
      "1125/1125 [==============================] - 1150s 1s/step - loss: 1.5565 - acc: 0.5167 - val_loss: 1.6137 - val_acc: 0.5011\n",
      "Epoch 8/20\n",
      "375/375 [==============================] - 368s 980ms/step - loss: 1.6026 - acc: 0.5069\n",
      "1125/1125 [==============================] - 1151s 1s/step - loss: 1.5350 - acc: 0.5212 - val_loss: 1.6026 - val_acc: 0.5069\n",
      "Epoch 9/20\n",
      "375/375 [==============================] - 372s 991ms/step - loss: 1.5680 - acc: 0.5132\n",
      "1125/1125 [==============================] - 1154s 1s/step - loss: 1.5089 - acc: 0.5316 - val_loss: 1.5680 - val_acc: 0.5132\n",
      "Epoch 10/20\n",
      "375/375 [==============================] - 365s 973ms/step - loss: 1.5961 - acc: 0.5142\n",
      "1125/1125 [==============================] - 1149s 1s/step - loss: 1.4964 - acc: 0.5342 - val_loss: 1.5961 - val_acc: 0.5142\n",
      "Epoch 11/20\n",
      "375/375 [==============================] - 367s 979ms/step - loss: 1.5801 - acc: 0.5194\n",
      "1125/1125 [==============================] - 1150s 1s/step - loss: 1.4810 - acc: 0.5390 - val_loss: 1.5801 - val_acc: 0.5194\n",
      "Epoch 12/20\n",
      "375/375 [==============================] - 365s 974ms/step - loss: 1.5726 - acc: 0.5192\n",
      "1125/1125 [==============================] - 1150s 1s/step - loss: 1.4675 - acc: 0.5461 - val_loss: 1.5726 - val_acc: 0.5192\n",
      "Epoch 13/20\n",
      "375/375 [==============================] - 367s 979ms/step - loss: 1.6192 - acc: 0.5026\n",
      "1125/1125 [==============================] - 1152s 1s/step - loss: 1.4541 - acc: 0.5479 - val_loss: 1.6192 - val_acc: 0.5026\n",
      "Epoch 14/20\n",
      "375/375 [==============================] - 366s 977ms/step - loss: 1.5797 - acc: 0.5192\n",
      "1125/1125 [==============================] - 1150s 1s/step - loss: 1.4464 - acc: 0.5502 - val_loss: 1.5797 - val_acc: 0.5192\n",
      "Epoch 15/20\n",
      "375/375 [==============================] - 368s 981ms/step - loss: 1.5856 - acc: 0.5139\n",
      "1125/1125 [==============================] - 1154s 1s/step - loss: 1.4352 - acc: 0.5559 - val_loss: 1.5856 - val_acc: 0.5139\n",
      "Epoch 16/20\n",
      "375/375 [==============================] - 367s 979ms/step - loss: 1.5428 - acc: 0.5319\n",
      "1125/1125 [==============================] - 1150s 1s/step - loss: 1.4266 - acc: 0.5576 - val_loss: 1.5428 - val_acc: 0.5319\n",
      "Epoch 17/20\n",
      "375/375 [==============================] - 368s 981ms/step - loss: 1.6087 - acc: 0.5153\n",
      "1125/1125 [==============================] - 1150s 1s/step - loss: 1.4193 - acc: 0.5611 - val_loss: 1.6087 - val_acc: 0.5153\n",
      "Epoch 18/20\n",
      "375/375 [==============================] - 366s 977ms/step - loss: 1.6365 - acc: 0.5114\n",
      "1125/1125 [==============================] - 1151s 1s/step - loss: 1.4112 - acc: 0.5623 - val_loss: 1.6365 - val_acc: 0.5114\n",
      "Epoch 19/20\n",
      "375/375 [==============================] - 367s 977ms/step - loss: 1.6667 - acc: 0.5021\n",
      "1125/1125 [==============================] - 1149s 1s/step - loss: 1.4029 - acc: 0.5651 - val_loss: 1.6667 - val_acc: 0.5021\n",
      "Epoch 20/20\n",
      "375/375 [==============================] - 367s 979ms/step - loss: 1.5966 - acc: 0.5203\n",
      "1125/1125 [==============================] - 1149s 1s/step - loss: 1.3967 - acc: 0.5667 - val_loss: 1.5966 - val_acc: 0.5203\n"
     ]
    },
    {
     "data": {
      "text/plain": [
       "<tensorflow.python.keras.callbacks.History at 0x1b9a1dd0240>"
      ]
     },
     "execution_count": 19,
     "metadata": {},
     "output_type": "execute_result"
    }
   ],
   "source": [
    "finalmodel.fit_generator(generator=train_generator,\n",
    "                    steps_per_epoch=STEP_SIZE_TRAIN,\n",
    "                    validation_data=validation_generator,\n",
    "                    validation_steps=STEP_SIZE_VALID,\n",
    "                    epochs=20,callbacks=[tensorboard_callback]\n",
    ")"
   ]
  },
  {
   "cell_type": "markdown",
   "metadata": {},
   "source": [
    "## Observations"
   ]
  },
  {
   "cell_type": "markdown",
   "metadata": {},
   "source": [
    "![title](model2_hist.png)"
   ]
  },
  {
   "cell_type": "markdown",
   "metadata": {},
   "source": [
    "1. train and validation accuracy remain reach about 52%\n",
    "2. Since there is few parameters to train, no overfiting is obsereved\n",
    "3. bias varies from -0.5 to 0.3 and weights vary from -4 to 1"
   ]
  },
  {
   "cell_type": "markdown",
   "metadata": {},
   "source": [
    "### Model 3"
   ]
  },
  {
   "cell_type": "code",
   "execution_count": 3,
   "metadata": {},
   "outputs": [
    {
     "name": "stdout",
     "output_type": "stream",
     "text": [
      "WARNING:tensorflow:From S:\\ana\\lib\\site-packages\\tensorflow\\python\\ops\\resource_variable_ops.py:435: colocate_with (from tensorflow.python.framework.ops) is deprecated and will be removed in a future version.\n",
      "Instructions for updating:\n",
      "Colocations handled automatically by placer.\n"
     ]
    }
   ],
   "source": [
    "tf.keras.backend.clear_session()\n",
    "model = applications.VGG16(input_shape=(64,64,3),include_top=False, weights='imagenet')\n",
    "Conv1 = Conv2D(filters=32,kernel_size=(2,2),strides=(1,1),padding=\"valid\",data_format='channels_last',\n",
    "              activation='relu',kernel_initializer=tf.keras.initializers.he_normal(seed=0),name='Conv1')(model.output)\n",
    "\n",
    "Conv2 = Conv2D(filters=20,kernel_size=(1,1),strides=(1,1),padding='valid',data_format='channels_last',\n",
    "              activation='relu',kernel_initializer=tf.keras.initializers.he_normal(seed=0),name='Conv2')(Conv1)\n",
    "\n",
    "Conv3 = Conv2D(filters=16,kernel_size=(1,1),strides=(1,1),padding='valid',data_format='channels_last',\n",
    "              activation='softmax',kernel_initializer=tf.keras.initializers.he_normal(seed=0),name='Output')(Conv2)\n",
    "\n",
    "flatten = Flatten(data_format='channels_last',name='Flatten')(Conv3)\n",
    "\n",
    "finalmodel = Model(inputs=model.input,outputs=flatten)\n",
    "\n",
    "#finalmodel = Model(inputs=model.input,outputs=Out)"
   ]
  },
  {
   "cell_type": "code",
   "execution_count": 4,
   "metadata": {},
   "outputs": [],
   "source": [
    "for layer in finalmodel.layers[:13]:\n",
    "    layer.trainable=False"
   ]
  },
  {
   "cell_type": "code",
   "execution_count": 5,
   "metadata": {},
   "outputs": [
    {
     "name": "stdout",
     "output_type": "stream",
     "text": [
      "_________________________________________________________________\n",
      "Layer (type)                 Output Shape              Param #   \n",
      "=================================================================\n",
      "input_1 (InputLayer)         (None, 64, 64, 3)         0         \n",
      "_________________________________________________________________\n",
      "block1_conv1 (Conv2D)        (None, 64, 64, 64)        1792      \n",
      "_________________________________________________________________\n",
      "block1_conv2 (Conv2D)        (None, 64, 64, 64)        36928     \n",
      "_________________________________________________________________\n",
      "block1_pool (MaxPooling2D)   (None, 32, 32, 64)        0         \n",
      "_________________________________________________________________\n",
      "block2_conv1 (Conv2D)        (None, 32, 32, 128)       73856     \n",
      "_________________________________________________________________\n",
      "block2_conv2 (Conv2D)        (None, 32, 32, 128)       147584    \n",
      "_________________________________________________________________\n",
      "block2_pool (MaxPooling2D)   (None, 16, 16, 128)       0         \n",
      "_________________________________________________________________\n",
      "block3_conv1 (Conv2D)        (None, 16, 16, 256)       295168    \n",
      "_________________________________________________________________\n",
      "block3_conv2 (Conv2D)        (None, 16, 16, 256)       590080    \n",
      "_________________________________________________________________\n",
      "block3_conv3 (Conv2D)        (None, 16, 16, 256)       590080    \n",
      "_________________________________________________________________\n",
      "block3_pool (MaxPooling2D)   (None, 8, 8, 256)         0         \n",
      "_________________________________________________________________\n",
      "block4_conv1 (Conv2D)        (None, 8, 8, 512)         1180160   \n",
      "_________________________________________________________________\n",
      "block4_conv2 (Conv2D)        (None, 8, 8, 512)         2359808   \n",
      "_________________________________________________________________\n",
      "block4_conv3 (Conv2D)        (None, 8, 8, 512)         2359808   \n",
      "_________________________________________________________________\n",
      "block4_pool (MaxPooling2D)   (None, 4, 4, 512)         0         \n",
      "_________________________________________________________________\n",
      "block5_conv1 (Conv2D)        (None, 4, 4, 512)         2359808   \n",
      "_________________________________________________________________\n",
      "block5_conv2 (Conv2D)        (None, 4, 4, 512)         2359808   \n",
      "_________________________________________________________________\n",
      "block5_conv3 (Conv2D)        (None, 4, 4, 512)         2359808   \n",
      "_________________________________________________________________\n",
      "block5_pool (MaxPooling2D)   (None, 2, 2, 512)         0         \n",
      "_________________________________________________________________\n",
      "Conv1 (Conv2D)               (None, 1, 1, 32)          65568     \n",
      "_________________________________________________________________\n",
      "Conv2 (Conv2D)               (None, 1, 1, 20)          660       \n",
      "_________________________________________________________________\n",
      "Output (Conv2D)              (None, 1, 1, 16)          336       \n",
      "_________________________________________________________________\n",
      "Flatten (Flatten)            (None, 16)                0         \n",
      "=================================================================\n",
      "Total params: 14,781,252\n",
      "Trainable params: 9,505,796\n",
      "Non-trainable params: 5,275,456\n",
      "_________________________________________________________________\n"
     ]
    }
   ],
   "source": [
    "finalmodel.summary()"
   ]
  },
  {
   "cell_type": "code",
   "execution_count": 22,
   "metadata": {},
   "outputs": [],
   "source": [
    "tf.keras.utils.plot_model(\n",
    "    model,\n",
    "    to_file='model3_architecture.png',\n",
    "    show_shapes=True)"
   ]
  },
  {
   "cell_type": "code",
   "execution_count": 6,
   "metadata": {},
   "outputs": [],
   "source": [
    "STEP_SIZE_TRAIN=36000//32\n",
    "STEP_SIZE_VALID=12000//32\n",
    "log_dir=\"logs/fit/\" + datetime.datetime.now().strftime(\"%Y%m%d-%H%M%S\")\n",
    "tensorboard_callback = tf.keras.callbacks.TensorBoard(log_dir=log_dir, histogram_freq=1, write_graph=True,write_grads=True)\n",
    "finalmodel.compile(optimizer='sgd',loss='categorical_crossentropy', metrics=['accuracy'])"
   ]
  },
  {
   "cell_type": "code",
   "execution_count": 10,
   "metadata": {},
   "outputs": [
    {
     "name": "stdout",
     "output_type": "stream",
     "text": [
      "WARNING:tensorflow:From S:\\ana\\lib\\site-packages\\tensorflow\\python\\ops\\math_ops.py:3066: to_int32 (from tensorflow.python.ops.math_ops) is deprecated and will be removed in a future version.\n",
      "Instructions for updating:\n",
      "Use tf.cast instead.\n",
      "WARNING:tensorflow:From S:\\ana\\lib\\site-packages\\tensorflow\\python\\ops\\math_grad.py:102: div (from tensorflow.python.ops.math_ops) is deprecated and will be removed in a future version.\n",
      "Instructions for updating:\n",
      "Deprecated in favor of operator or tf.math.divide.\n",
      "Epoch 1/20\n",
      "375/375 [==============================] - 653s 2s/step - loss: 1.7858 - acc: 0.4608\n",
      "1125/1125 [==============================] - 2372s 2s/step - loss: 2.0918 - acc: 0.3498 - val_loss: 1.7858 - val_acc: 0.4608\n",
      "Epoch 2/20\n",
      "375/375 [==============================] - 573s 2s/step - loss: 1.4858 - acc: 0.5478\n",
      "1125/1125 [==============================] - 1919s 2s/step - loss: 1.6142 - acc: 0.4958 - val_loss: 1.4858 - val_acc: 0.5478\n",
      "Epoch 3/20\n",
      "375/375 [==============================] - 572s 2s/step - loss: 1.4327 - acc: 0.5677\n",
      "1125/1125 [==============================] - 1924s 2s/step - loss: 1.4207 - acc: 0.5574 - val_loss: 1.4327 - val_acc: 0.5677\n",
      "Epoch 4/20\n",
      "375/375 [==============================] - 573s 2s/step - loss: 1.3365 - acc: 0.5910\n",
      "1125/1125 [==============================] - 1928s 2s/step - loss: 1.2884 - acc: 0.5998 - val_loss: 1.3365 - val_acc: 0.5910\n",
      "Epoch 5/20\n",
      "375/375 [==============================] - 577s 2s/step - loss: 1.2942 - acc: 0.6086\n",
      "1125/1125 [==============================] - 1927s 2s/step - loss: 1.1764 - acc: 0.6341 - val_loss: 1.2942 - val_acc: 0.6086\n",
      "Epoch 6/20\n",
      "375/375 [==============================] - 572s 2s/step - loss: 1.3003 - acc: 0.6204\n",
      "1125/1125 [==============================] - 1925s 2s/step - loss: 1.0766 - acc: 0.6616 - val_loss: 1.3003 - val_acc: 0.6204\n",
      "Epoch 7/20\n",
      "375/375 [==============================] - 573s 2s/step - loss: 1.2859 - acc: 0.6229\n",
      "1125/1125 [==============================] - 1923s 2s/step - loss: 0.9761 - acc: 0.6897 - val_loss: 1.2859 - val_acc: 0.6229\n",
      "Epoch 8/20\n",
      "375/375 [==============================] - 576s 2s/step - loss: 1.3171 - acc: 0.6168\n",
      "1125/1125 [==============================] - 1926s 2s/step - loss: 0.8746 - acc: 0.7223 - val_loss: 1.3171 - val_acc: 0.6168\n",
      "Epoch 9/20\n",
      "375/375 [==============================] - 573s 2s/step - loss: 1.2813 - acc: 0.6414\n",
      "1125/1125 [==============================] - 1926s 2s/step - loss: 0.7717 - acc: 0.7513 - val_loss: 1.2813 - val_acc: 0.6414\n",
      "Epoch 10/20\n",
      "375/375 [==============================] - 573s 2s/step - loss: 1.3980 - acc: 0.6197\n",
      "1125/1125 [==============================] - 1923s 2s/step - loss: 0.6704 - acc: 0.7823 - val_loss: 1.3980 - val_acc: 0.6197\n",
      "Epoch 11/20\n",
      "375/375 [==============================] - 572s 2s/step - loss: 1.4866 - acc: 0.6208\n",
      "1125/1125 [==============================] - 1923s 2s/step - loss: 0.5689 - acc: 0.8154 - val_loss: 1.4866 - val_acc: 0.6208\n",
      "Epoch 12/20\n",
      "375/375 [==============================] - 571s 2s/step - loss: 1.6128 - acc: 0.6220\n",
      "1125/1125 [==============================] - 1922s 2s/step - loss: 0.4676 - acc: 0.8482 - val_loss: 1.6128 - val_acc: 0.6220\n",
      "Epoch 13/20\n",
      "375/375 [==============================] - 576s 2s/step - loss: 1.6138 - acc: 0.6222\n",
      "1125/1125 [==============================] - 1931s 2s/step - loss: 0.3886 - acc: 0.8723 - val_loss: 1.6138 - val_acc: 0.6222\n",
      "Epoch 14/20\n",
      "375/375 [==============================] - 582s 2s/step - loss: 1.7998 - acc: 0.6005\n",
      "1125/1125 [==============================] - 1932s 2s/step - loss: 0.3062 - acc: 0.9005 - val_loss: 1.7998 - val_acc: 0.6005\n",
      "Epoch 15/20\n",
      "375/375 [==============================] - 572s 2s/step - loss: 1.8789 - acc: 0.6272\n",
      "1125/1125 [==============================] - 1919s 2s/step - loss: 0.2446 - acc: 0.9200 - val_loss: 1.8789 - val_acc: 0.6272\n",
      "Epoch 16/20\n",
      "375/375 [==============================] - 573s 2s/step - loss: 1.9722 - acc: 0.6239\n",
      "1125/1125 [==============================] - 1921s 2s/step - loss: 0.2018 - acc: 0.9363 - val_loss: 1.9722 - val_acc: 0.6239\n",
      "Epoch 17/20\n",
      "375/375 [==============================] - 571s 2s/step - loss: 2.1630 - acc: 0.5988\n",
      "1125/1125 [==============================] - 1922s 2s/step - loss: 0.1697 - acc: 0.9451 - val_loss: 2.1630 - val_acc: 0.5988\n",
      "Epoch 18/20\n",
      "375/375 [==============================] - 571s 2s/step - loss: 2.1253 - acc: 0.6217\n",
      "1125/1125 [==============================] - 1922s 2s/step - loss: 0.1132 - acc: 0.9649 - val_loss: 2.1253 - val_acc: 0.6217\n",
      "Epoch 19/20\n",
      "375/375 [==============================] - 571s 2s/step - loss: 2.3072 - acc: 0.6232\n",
      "1125/1125 [==============================] - 1922s 2s/step - loss: 0.1209 - acc: 0.9613 - val_loss: 2.3072 - val_acc: 0.6232\n",
      "Epoch 20/20\n",
      "375/375 [==============================] - 571s 2s/step - loss: 2.2252 - acc: 0.6251\n",
      "1125/1125 [==============================] - 1923s 2s/step - loss: 0.1139 - acc: 0.9638 - val_loss: 2.2252 - val_acc: 0.6251\n"
     ]
    },
    {
     "data": {
      "text/plain": [
       "<tensorflow.python.keras.callbacks.History at 0x23dc916c940>"
      ]
     },
     "execution_count": 10,
     "metadata": {},
     "output_type": "execute_result"
    }
   ],
   "source": [
    "finalmodel.fit_generator(generator=train_generator,\n",
    "                    steps_per_epoch=STEP_SIZE_TRAIN,\n",
    "                    validation_data=validation_generator,\n",
    "                    validation_steps=STEP_SIZE_VALID,\n",
    "                    epochs=20,callbacks=[tensorboard_callback]\n",
    ")"
   ]
  },
  {
   "cell_type": "code",
   "execution_count": 11,
   "metadata": {},
   "outputs": [],
   "source": [
    "model.save_weights('model3_weights.h5')"
   ]
  },
  {
   "cell_type": "markdown",
   "metadata": {},
   "source": [
    "## Observation:"
   ]
  },
  {
   "cell_type": "markdown",
   "metadata": {},
   "source": [
    "![title](model2_hist.png)"
   ]
  },
  {
   "cell_type": "markdown",
   "metadata": {},
   "source": [
    "1. max training accuracy = 0.96 and max validation accuracy =0.63\n",
    "2. Since 6 layers of vgg 16 were unfroze, there are more parameters to train which leads to overfitting\n",
    "3. Overfitting starts from 9th epoch\n",
    "4. bias varies from -0.25 to 0.19 and weights vary from -1.8 to 1.05\n",
    "5. No cases of exploding/vanishing gradient problem"
   ]
  }
 ],
 "metadata": {
  "kernelspec": {
   "display_name": "Python 3",
   "language": "python",
   "name": "python3"
  },
  "language_info": {
   "codemirror_mode": {
    "name": "ipython",
    "version": 3
   },
   "file_extension": ".py",
   "mimetype": "text/x-python",
   "name": "python",
   "nbconvert_exporter": "python",
   "pygments_lexer": "ipython3",
   "version": "3.6.5"
  }
 },
 "nbformat": 4,
 "nbformat_minor": 2
}
